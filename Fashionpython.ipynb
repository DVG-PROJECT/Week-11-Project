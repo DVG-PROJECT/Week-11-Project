{
 "cells": [
  {
   "cell_type": "code",
   "execution_count": null,
   "id": "6dbe13a7",
   "metadata": {},
   "outputs": [
    {
     "name": "stdout",
     "output_type": "stream",
     "text": [
      "Requirement already satisfied: pandas in c:\\users\\kirim\\appdata\\local\\programs\\python\\python313\\lib\\site-packages (2.2.3)\n",
      "Requirement already satisfied: numpy>=1.26.0 in c:\\users\\kirim\\appdata\\local\\programs\\python\\python313\\lib\\site-packages (from pandas) (2.2.4)\n",
      "Requirement already satisfied: python-dateutil>=2.8.2 in c:\\users\\kirim\\appdata\\roaming\\python\\python313\\site-packages (from pandas) (2.9.0.post0)\n",
      "Requirement already satisfied: pytz>=2020.1 in c:\\users\\kirim\\appdata\\local\\programs\\python\\python313\\lib\\site-packages (from pandas) (2025.1)\n",
      "Requirement already satisfied: tzdata>=2022.7 in c:\\users\\kirim\\appdata\\local\\programs\\python\\python313\\lib\\site-packages (from pandas) (2025.1)\n",
      "Requirement already satisfied: six>=1.5 in c:\\users\\kirim\\appdata\\roaming\\python\\python313\\site-packages (from python-dateutil>=2.8.2->pandas) (1.17.0)\n",
      "Requirement already satisfied: numpy in c:\\users\\kirim\\appdata\\local\\programs\\python\\python313\\lib\\site-packages (2.2.4)\n",
      "Requirement already satisfied: sqlalchemy in c:\\users\\kirim\\appdata\\local\\programs\\python\\python313\\lib\\site-packages (2.0.39)\n",
      "Requirement already satisfied: greenlet!=0.4.17 in c:\\users\\kirim\\appdata\\local\\programs\\python\\python313\\lib\\site-packages (from sqlalchemy) (3.1.1)\n",
      "Requirement already satisfied: typing-extensions>=4.6.0 in c:\\users\\kirim\\appdata\\local\\programs\\python\\python313\\lib\\site-packages (from sqlalchemy) (4.12.2)\n",
      "Requirement already satisfied: matplotlib in c:\\users\\kirim\\appdata\\local\\programs\\python\\python313\\lib\\site-packages (3.10.1)\n",
      "Requirement already satisfied: contourpy>=1.0.1 in c:\\users\\kirim\\appdata\\local\\programs\\python\\python313\\lib\\site-packages (from matplotlib) (1.3.1)\n",
      "Requirement already satisfied: cycler>=0.10 in c:\\users\\kirim\\appdata\\local\\programs\\python\\python313\\lib\\site-packages (from matplotlib) (0.12.1)\n",
      "Requirement already satisfied: fonttools>=4.22.0 in c:\\users\\kirim\\appdata\\local\\programs\\python\\python313\\lib\\site-packages (from matplotlib) (4.56.0)\n",
      "Requirement already satisfied: kiwisolver>=1.3.1 in c:\\users\\kirim\\appdata\\local\\programs\\python\\python313\\lib\\site-packages (from matplotlib) (1.4.8)\n",
      "Requirement already satisfied: numpy>=1.23 in c:\\users\\kirim\\appdata\\local\\programs\\python\\python313\\lib\\site-packages (from matplotlib) (2.2.4)\n",
      "Requirement already satisfied: packaging>=20.0 in c:\\users\\kirim\\appdata\\roaming\\python\\python313\\site-packages (from matplotlib) (24.2)\n",
      "Requirement already satisfied: pillow>=8 in c:\\users\\kirim\\appdata\\local\\programs\\python\\python313\\lib\\site-packages (from matplotlib) (11.1.0)\n",
      "Requirement already satisfied: pyparsing>=2.3.1 in c:\\users\\kirim\\appdata\\local\\programs\\python\\python313\\lib\\site-packages (from matplotlib) (3.2.3)\n",
      "Requirement already satisfied: python-dateutil>=2.7 in c:\\users\\kirim\\appdata\\roaming\\python\\python313\\site-packages (from matplotlib) (2.9.0.post0)\n",
      "Requirement already satisfied: six>=1.5 in c:\\users\\kirim\\appdata\\roaming\\python\\python313\\site-packages (from python-dateutil>=2.7->matplotlib) (1.17.0)\n",
      "Requirement already satisfied: seaborn in c:\\users\\kirim\\appdata\\local\\programs\\python\\python313\\lib\\site-packages (0.13.2)\n",
      "Requirement already satisfied: numpy!=1.24.0,>=1.20 in c:\\users\\kirim\\appdata\\local\\programs\\python\\python313\\lib\\site-packages (from seaborn) (2.2.4)\n",
      "Requirement already satisfied: pandas>=1.2 in c:\\users\\kirim\\appdata\\local\\programs\\python\\python313\\lib\\site-packages (from seaborn) (2.2.3)\n",
      "Requirement already satisfied: matplotlib!=3.6.1,>=3.4 in c:\\users\\kirim\\appdata\\local\\programs\\python\\python313\\lib\\site-packages (from seaborn) (3.10.1)\n",
      "Requirement already satisfied: contourpy>=1.0.1 in c:\\users\\kirim\\appdata\\local\\programs\\python\\python313\\lib\\site-packages (from matplotlib!=3.6.1,>=3.4->seaborn) (1.3.1)\n",
      "Requirement already satisfied: cycler>=0.10 in c:\\users\\kirim\\appdata\\local\\programs\\python\\python313\\lib\\site-packages (from matplotlib!=3.6.1,>=3.4->seaborn) (0.12.1)\n",
      "Requirement already satisfied: fonttools>=4.22.0 in c:\\users\\kirim\\appdata\\local\\programs\\python\\python313\\lib\\site-packages (from matplotlib!=3.6.1,>=3.4->seaborn) (4.56.0)\n",
      "Requirement already satisfied: kiwisolver>=1.3.1 in c:\\users\\kirim\\appdata\\local\\programs\\python\\python313\\lib\\site-packages (from matplotlib!=3.6.1,>=3.4->seaborn) (1.4.8)\n",
      "Requirement already satisfied: packaging>=20.0 in c:\\users\\kirim\\appdata\\roaming\\python\\python313\\site-packages (from matplotlib!=3.6.1,>=3.4->seaborn) (24.2)\n",
      "Requirement already satisfied: pillow>=8 in c:\\users\\kirim\\appdata\\local\\programs\\python\\python313\\lib\\site-packages (from matplotlib!=3.6.1,>=3.4->seaborn) (11.1.0)\n",
      "Requirement already satisfied: pyparsing>=2.3.1 in c:\\users\\kirim\\appdata\\local\\programs\\python\\python313\\lib\\site-packages (from matplotlib!=3.6.1,>=3.4->seaborn) (3.2.3)\n",
      "Requirement already satisfied: python-dateutil>=2.7 in c:\\users\\kirim\\appdata\\roaming\\python\\python313\\site-packages (from matplotlib!=3.6.1,>=3.4->seaborn) (2.9.0.post0)\n",
      "Requirement already satisfied: pytz>=2020.1 in c:\\users\\kirim\\appdata\\local\\programs\\python\\python313\\lib\\site-packages (from pandas>=1.2->seaborn) (2025.1)\n",
      "Requirement already satisfied: tzdata>=2022.7 in c:\\users\\kirim\\appdata\\local\\programs\\python\\python313\\lib\\site-packages (from pandas>=1.2->seaborn) (2025.1)\n",
      "Requirement already satisfied: six>=1.5 in c:\\users\\kirim\\appdata\\roaming\\python\\python313\\site-packages (from python-dateutil>=2.7->matplotlib!=3.6.1,>=3.4->seaborn) (1.17.0)\n"
     ]
    }
   ],
   "source": [
    "# Installing the required libraries\n",
    "!pip install pandas\n",
    "!pip install numpy\n",
    "!pip install sqlalchemy\n",
    "!pip install matplotlib\n",
    "!pip install seaborn"
   ]
  },
  {
   "cell_type": "code",
   "execution_count": null,
   "id": "7b7f7503",
   "metadata": {},
   "outputs": [],
   "source": [
    "# Importing the installed libraries\n",
    "import pandas as pd\n",
    "from sqlalchemy import create_engine"
   ]
  },
  {
   "cell_type": "code",
   "execution_count": null,
   "id": "2a558554",
   "metadata": {},
   "outputs": [],
   "source": [
    "# Database Connection Details\n",
    "\n",
    "db_fashion = {\n",
    "    'dbname': 'defaultdb',\n",
    "    'user': 'avnadmin',\n",
    "    'password': 'AVNS_i9D0FsVYPZo',\n",
    "    'host': 'pg-3b9715ea-kirimidenn-c409.b.aivencloud.com',\n",
    "    'port': ''\n",
    "}"
   ]
  },
  {
   "cell_type": "code",
   "execution_count": null,
   "id": "a72a1e6c",
   "metadata": {},
   "outputs": [],
   "source": [
    "# Creating the postgresql connection string\n",
    "engine = create_engine(f\"postgresql://{db_fashion['user']}:{db_fashion['password']}@{db_fashion['host']}:{db_fashion['port']}/{db_fashion['dbname']}\")"
   ]
  },
  {
   "cell_type": "code",
   "execution_count": null,
   "id": "4e3ae020",
   "metadata": {},
   "outputs": [],
   "source": [
    "#SQL query\n",
    "query = \"SELECT * FROM luxweek11.fashion;\""
   ]
  },
  {
   "cell_type": "code",
   "execution_count": null,
   "id": "5be80065",
   "metadata": {},
   "outputs": [],
   "source": [
    "#Connecting the data into DataFrame\n",
    "fashion= pd.read_sql(query, engine)"
   ]
  },
  {
   "cell_type": "code",
   "execution_count": null,
   "id": "3224fa7a",
   "metadata": {},
   "outputs": [
    {
     "data": {
      "text/html": [
       "<div>\n",
       "<style scoped>\n",
       "    .dataframe tbody tr th:only-of-type {\n",
       "        vertical-align: middle;\n",
       "    }\n",
       "\n",
       "    .dataframe tbody tr th {\n",
       "        vertical-align: top;\n",
       "    }\n",
       "\n",
       "    .dataframe thead th {\n",
       "        text-align: right;\n",
       "    }\n",
       "</style>\n",
       "<table border=\"1\" class=\"dataframe\">\n",
       "  <thead>\n",
       "    <tr style=\"text-align: right;\">\n",
       "      <th></th>\n",
       "      <th>clothing_type</th>\n",
       "      <th>category</th>\n",
       "      <th>price</th>\n",
       "      <th>discount</th>\n",
       "      <th>shop_outlet</th>\n",
       "      <th>delivery_date</th>\n",
       "      <th>order_date</th>\n",
       "      <th>revenue</th>\n",
       "      <th>customer_name</th>\n",
       "      <th>customer_email</th>\n",
       "    </tr>\n",
       "  </thead>\n",
       "  <tbody>\n",
       "    <tr>\n",
       "      <th>0</th>\n",
       "      <td>men</td>\n",
       "      <td>accessories</td>\n",
       "      <td>113.84</td>\n",
       "      <td>6.15</td>\n",
       "      <td>Photobug</td>\n",
       "      <td>2022-06-20</td>\n",
       "      <td>2023-08-06</td>\n",
       "      <td>1102.01</td>\n",
       "      <td>Alfy Piborn</td>\n",
       "      <td>apiborn0@squarespace.com</td>\n",
       "    </tr>\n",
       "    <tr>\n",
       "      <th>1</th>\n",
       "      <td>men</td>\n",
       "      <td>accessories</td>\n",
       "      <td>60.62</td>\n",
       "      <td>49.47</td>\n",
       "      <td>Jetwire</td>\n",
       "      <td>2024-02-06</td>\n",
       "      <td>2022-01-01</td>\n",
       "      <td>5521.65</td>\n",
       "      <td>Demetra Stutely</td>\n",
       "      <td>dstutely1@wired.com</td>\n",
       "    </tr>\n",
       "    <tr>\n",
       "      <th>2</th>\n",
       "      <td>children</td>\n",
       "      <td>shirts</td>\n",
       "      <td>119.19</td>\n",
       "      <td>41.14</td>\n",
       "      <td>Edgewire</td>\n",
       "      <td>2022-06-03</td>\n",
       "      <td>2022-11-14</td>\n",
       "      <td>7252.86</td>\n",
       "      <td>Giselle Ruegg</td>\n",
       "      <td>gruegg2@weebly.com</td>\n",
       "    </tr>\n",
       "    <tr>\n",
       "      <th>3</th>\n",
       "      <td>men</td>\n",
       "      <td>shoes</td>\n",
       "      <td>43.19</td>\n",
       "      <td>12.50</td>\n",
       "      <td>Twitterbridge</td>\n",
       "      <td>2022-11-19</td>\n",
       "      <td>2024-08-01</td>\n",
       "      <td>4866.12</td>\n",
       "      <td>Sven Loughlin</td>\n",
       "      <td>sloughlin3@surveymonkey.com</td>\n",
       "    </tr>\n",
       "    <tr>\n",
       "      <th>4</th>\n",
       "      <td>women</td>\n",
       "      <td>accessories</td>\n",
       "      <td>116.46</td>\n",
       "      <td>28.74</td>\n",
       "      <td>Zoomlounge</td>\n",
       "      <td>2024-12-17</td>\n",
       "      <td>2024-01-29</td>\n",
       "      <td>2009.40</td>\n",
       "      <td>Cesya Boustead</td>\n",
       "      <td>cboustead4@nps.gov</td>\n",
       "    </tr>\n",
       "  </tbody>\n",
       "</table>\n",
       "</div>"
      ],
      "text/plain": [
       "  clothing_type     category   price  discount    shop_outlet delivery_date  \\\n",
       "0           men  accessories  113.84      6.15       Photobug    2022-06-20   \n",
       "1           men  accessories   60.62     49.47        Jetwire    2024-02-06   \n",
       "2      children       shirts  119.19     41.14       Edgewire    2022-06-03   \n",
       "3           men        shoes   43.19     12.50  Twitterbridge    2022-11-19   \n",
       "4         women  accessories  116.46     28.74     Zoomlounge    2024-12-17   \n",
       "\n",
       "   order_date  revenue    customer_name               customer_email  \n",
       "0  2023-08-06  1102.01      Alfy Piborn     apiborn0@squarespace.com  \n",
       "1  2022-01-01  5521.65  Demetra Stutely          dstutely1@wired.com  \n",
       "2  2022-11-14  7252.86    Giselle Ruegg           gruegg2@weebly.com  \n",
       "3  2024-08-01  4866.12    Sven Loughlin  sloughlin3@surveymonkey.com  \n",
       "4  2024-01-29  2009.40   Cesya Boustead           cboustead4@nps.gov  "
      ]
     },
     "execution_count": 9,
     "metadata": {},
     "output_type": "execute_result"
    }
   ],
   "source": [
    "#Viewing the first 5 records\n",
    "fashion.head()"
   ]
  },
  {
   "cell_type": "code",
   "execution_count": null,
   "id": "4d85507b",
   "metadata": {},
   "outputs": [
    {
     "data": {
      "text/html": [
       "<div>\n",
       "<style scoped>\n",
       "    .dataframe tbody tr th:only-of-type {\n",
       "        vertical-align: middle;\n",
       "    }\n",
       "\n",
       "    .dataframe tbody tr th {\n",
       "        vertical-align: top;\n",
       "    }\n",
       "\n",
       "    .dataframe thead th {\n",
       "        text-align: right;\n",
       "    }\n",
       "</style>\n",
       "<table border=\"1\" class=\"dataframe\">\n",
       "  <thead>\n",
       "    <tr style=\"text-align: right;\">\n",
       "      <th></th>\n",
       "      <th>clothing_type</th>\n",
       "      <th>category</th>\n",
       "      <th>price</th>\n",
       "      <th>discount</th>\n",
       "      <th>shop_outlet</th>\n",
       "      <th>delivery_date</th>\n",
       "      <th>order_date</th>\n",
       "      <th>revenue</th>\n",
       "      <th>customer_name</th>\n",
       "      <th>customer_email</th>\n",
       "    </tr>\n",
       "  </thead>\n",
       "  <tbody>\n",
       "    <tr>\n",
       "      <th>95</th>\n",
       "      <td>children</td>\n",
       "      <td>shoes</td>\n",
       "      <td>108.38</td>\n",
       "      <td>5.82</td>\n",
       "      <td>Rhybox</td>\n",
       "      <td>2024-08-31</td>\n",
       "      <td>2023-01-01</td>\n",
       "      <td>5215.14</td>\n",
       "      <td>Vinni Rasch</td>\n",
       "      <td>vrasch2n@wunderground.com</td>\n",
       "    </tr>\n",
       "    <tr>\n",
       "      <th>96</th>\n",
       "      <td>men</td>\n",
       "      <td>shirts</td>\n",
       "      <td>188.96</td>\n",
       "      <td>17.87</td>\n",
       "      <td>Skimia</td>\n",
       "      <td>2023-11-23</td>\n",
       "      <td>2022-04-14</td>\n",
       "      <td>4898.09</td>\n",
       "      <td>Hazel Pinching</td>\n",
       "      <td>hpinching2o@si.edu</td>\n",
       "    </tr>\n",
       "    <tr>\n",
       "      <th>97</th>\n",
       "      <td>women</td>\n",
       "      <td>accessories</td>\n",
       "      <td>11.88</td>\n",
       "      <td>38.74</td>\n",
       "      <td>Kimia</td>\n",
       "      <td>2022-03-13</td>\n",
       "      <td>2023-06-15</td>\n",
       "      <td>3527.45</td>\n",
       "      <td>Rancell Cristofari</td>\n",
       "      <td>rcristofari2p@fda.gov</td>\n",
       "    </tr>\n",
       "    <tr>\n",
       "      <th>98</th>\n",
       "      <td>children</td>\n",
       "      <td>shoes</td>\n",
       "      <td>141.65</td>\n",
       "      <td>35.04</td>\n",
       "      <td>Flipbug</td>\n",
       "      <td>2022-03-13</td>\n",
       "      <td>2025-01-11</td>\n",
       "      <td>2663.98</td>\n",
       "      <td>Beulah Pawfoot</td>\n",
       "      <td>bpawfoot2q@amazon.de</td>\n",
       "    </tr>\n",
       "    <tr>\n",
       "      <th>99</th>\n",
       "      <td>women</td>\n",
       "      <td>shirts</td>\n",
       "      <td>169.94</td>\n",
       "      <td>10.59</td>\n",
       "      <td>Dynabox</td>\n",
       "      <td>2024-04-27</td>\n",
       "      <td>2022-07-15</td>\n",
       "      <td>7064.56</td>\n",
       "      <td>Cordelie Caitlin</td>\n",
       "      <td>ccaitlin2r@thetimes.co.uk</td>\n",
       "    </tr>\n",
       "  </tbody>\n",
       "</table>\n",
       "</div>"
      ],
      "text/plain": [
       "   clothing_type     category   price  discount shop_outlet delivery_date  \\\n",
       "95      children        shoes  108.38      5.82      Rhybox    2024-08-31   \n",
       "96           men       shirts  188.96     17.87      Skimia    2023-11-23   \n",
       "97         women  accessories   11.88     38.74       Kimia    2022-03-13   \n",
       "98      children        shoes  141.65     35.04     Flipbug    2022-03-13   \n",
       "99         women       shirts  169.94     10.59     Dynabox    2024-04-27   \n",
       "\n",
       "    order_date  revenue       customer_name             customer_email  \n",
       "95  2023-01-01  5215.14         Vinni Rasch  vrasch2n@wunderground.com  \n",
       "96  2022-04-14  4898.09      Hazel Pinching         hpinching2o@si.edu  \n",
       "97  2023-06-15  3527.45  Rancell Cristofari      rcristofari2p@fda.gov  \n",
       "98  2025-01-11  2663.98      Beulah Pawfoot       bpawfoot2q@amazon.de  \n",
       "99  2022-07-15  7064.56    Cordelie Caitlin  ccaitlin2r@thetimes.co.uk  "
      ]
     },
     "execution_count": 11,
     "metadata": {},
     "output_type": "execute_result"
    }
   ],
   "source": [
    "#Viewing the last 5 records\n",
    "fashion.tail()"
   ]
  },
  {
   "cell_type": "code",
   "execution_count": null,
   "id": "86a6766a",
   "metadata": {},
   "outputs": [
    {
     "data": {
      "text/plain": [
       "(100, 10)"
      ]
     },
     "execution_count": 10,
     "metadata": {},
     "output_type": "execute_result"
    }
   ],
   "source": [
    "#Data Shape\n",
    "fashion.shape # 100 records and 10 fields"
   ]
  },
  {
   "cell_type": "code",
   "execution_count": 18,
   "id": "5b2244d0",
   "metadata": {},
   "outputs": [
    {
     "data": {
      "text/plain": [
       "Index(['clothing_type', 'category', 'price', 'discount', 'shop_outlet',\n",
       "       'delivery_date', 'order_date', 'revenue', 'customer_name',\n",
       "       'customer_email'],\n",
       "      dtype='object')"
      ]
     },
     "execution_count": 18,
     "metadata": {},
     "output_type": "execute_result"
    }
   ],
   "source": [
    "# Wait, can we look for the columns we have in our data? Yesss\n",
    "fashion.columns"
   ]
  },
  {
   "cell_type": "code",
   "execution_count": 12,
   "id": "e2d76bf8",
   "metadata": {},
   "outputs": [
    {
     "name": "stdout",
     "output_type": "stream",
     "text": [
      "<class 'pandas.core.frame.DataFrame'>\n",
      "RangeIndex: 100 entries, 0 to 99\n",
      "Data columns (total 10 columns):\n",
      " #   Column          Non-Null Count  Dtype  \n",
      "---  ------          --------------  -----  \n",
      " 0   clothing_type   100 non-null    object \n",
      " 1   category        100 non-null    object \n",
      " 2   price           100 non-null    float64\n",
      " 3   discount        100 non-null    float64\n",
      " 4   shop_outlet     100 non-null    object \n",
      " 5   delivery_date   100 non-null    object \n",
      " 6   order_date      100 non-null    object \n",
      " 7   revenue         100 non-null    float64\n",
      " 8   customer_name   100 non-null    object \n",
      " 9   customer_email  100 non-null    object \n",
      "dtypes: float64(3), object(7)\n",
      "memory usage: 7.9+ KB\n"
     ]
    }
   ],
   "source": [
    "#Checking that columns and datatypes\n",
    "fashion.info()"
   ]
  },
  {
   "cell_type": "code",
   "execution_count": 15,
   "id": "c0d1d18d",
   "metadata": {},
   "outputs": [],
   "source": [
    "# Converting delivery_date and order_date from object to datatime\n",
    "\n",
    "fashion['delivery_date']=pd.to_datetime(fashion['delivery_date'])\n",
    "fashion['order_date']=pd.to_datetime(fashion['order_date'])"
   ]
  },
  {
   "cell_type": "code",
   "execution_count": 20,
   "id": "0ee2ed0f",
   "metadata": {},
   "outputs": [],
   "source": [
    "# Good,let's extract year, month and day from our datetime columns\n",
    "\n",
    "fashion['delivery_year'] = fashion['delivery_date'].dt.year\n",
    "fashion['delivery_month'] = fashion['delivery_date'].dt.month\n",
    "fashion['delivery_day'] = fashion['delivery_date'].dt.day\n"
   ]
  },
  {
   "cell_type": "code",
   "execution_count": 21,
   "id": "7da4870d",
   "metadata": {},
   "outputs": [],
   "source": [
    "# Also extract from the order_date column\n",
    "\n",
    "fashion['order_year'] = fashion['order_date'].dt.year\n",
    "fashion['order_month'] = fashion['order_date'].dt.month\n",
    "fashion['order_day'] = fashion['order_date'].dt.day"
   ]
  },
  {
   "cell_type": "code",
   "execution_count": 23,
   "id": "b90959ef",
   "metadata": {},
   "outputs": [
    {
     "data": {
      "text/html": [
       "<div>\n",
       "<style scoped>\n",
       "    .dataframe tbody tr th:only-of-type {\n",
       "        vertical-align: middle;\n",
       "    }\n",
       "\n",
       "    .dataframe tbody tr th {\n",
       "        vertical-align: top;\n",
       "    }\n",
       "\n",
       "    .dataframe thead th {\n",
       "        text-align: right;\n",
       "    }\n",
       "</style>\n",
       "<table border=\"1\" class=\"dataframe\">\n",
       "  <thead>\n",
       "    <tr style=\"text-align: right;\">\n",
       "      <th></th>\n",
       "      <th>clothing_type</th>\n",
       "      <th>category</th>\n",
       "      <th>price</th>\n",
       "      <th>discount</th>\n",
       "      <th>shop_outlet</th>\n",
       "      <th>delivery_date</th>\n",
       "      <th>order_date</th>\n",
       "      <th>revenue</th>\n",
       "      <th>customer_name</th>\n",
       "      <th>customer_email</th>\n",
       "      <th>delivery_year</th>\n",
       "      <th>delivery_month</th>\n",
       "      <th>delivery_day</th>\n",
       "      <th>order_year</th>\n",
       "      <th>order_month</th>\n",
       "      <th>order_day</th>\n",
       "    </tr>\n",
       "  </thead>\n",
       "  <tbody>\n",
       "    <tr>\n",
       "      <th>0</th>\n",
       "      <td>men</td>\n",
       "      <td>accessories</td>\n",
       "      <td>113.84</td>\n",
       "      <td>6.15</td>\n",
       "      <td>Photobug</td>\n",
       "      <td>2022-06-20</td>\n",
       "      <td>2023-08-06</td>\n",
       "      <td>1102.01</td>\n",
       "      <td>Alfy Piborn</td>\n",
       "      <td>apiborn0@squarespace.com</td>\n",
       "      <td>2022</td>\n",
       "      <td>6</td>\n",
       "      <td>20</td>\n",
       "      <td>2023</td>\n",
       "      <td>8</td>\n",
       "      <td>6</td>\n",
       "    </tr>\n",
       "    <tr>\n",
       "      <th>1</th>\n",
       "      <td>men</td>\n",
       "      <td>accessories</td>\n",
       "      <td>60.62</td>\n",
       "      <td>49.47</td>\n",
       "      <td>Jetwire</td>\n",
       "      <td>2024-02-06</td>\n",
       "      <td>2022-01-01</td>\n",
       "      <td>5521.65</td>\n",
       "      <td>Demetra Stutely</td>\n",
       "      <td>dstutely1@wired.com</td>\n",
       "      <td>2024</td>\n",
       "      <td>2</td>\n",
       "      <td>6</td>\n",
       "      <td>2022</td>\n",
       "      <td>1</td>\n",
       "      <td>1</td>\n",
       "    </tr>\n",
       "    <tr>\n",
       "      <th>2</th>\n",
       "      <td>children</td>\n",
       "      <td>shirts</td>\n",
       "      <td>119.19</td>\n",
       "      <td>41.14</td>\n",
       "      <td>Edgewire</td>\n",
       "      <td>2022-06-03</td>\n",
       "      <td>2022-11-14</td>\n",
       "      <td>7252.86</td>\n",
       "      <td>Giselle Ruegg</td>\n",
       "      <td>gruegg2@weebly.com</td>\n",
       "      <td>2022</td>\n",
       "      <td>6</td>\n",
       "      <td>3</td>\n",
       "      <td>2022</td>\n",
       "      <td>11</td>\n",
       "      <td>14</td>\n",
       "    </tr>\n",
       "    <tr>\n",
       "      <th>3</th>\n",
       "      <td>men</td>\n",
       "      <td>shoes</td>\n",
       "      <td>43.19</td>\n",
       "      <td>12.50</td>\n",
       "      <td>Twitterbridge</td>\n",
       "      <td>2022-11-19</td>\n",
       "      <td>2024-08-01</td>\n",
       "      <td>4866.12</td>\n",
       "      <td>Sven Loughlin</td>\n",
       "      <td>sloughlin3@surveymonkey.com</td>\n",
       "      <td>2022</td>\n",
       "      <td>11</td>\n",
       "      <td>19</td>\n",
       "      <td>2024</td>\n",
       "      <td>8</td>\n",
       "      <td>1</td>\n",
       "    </tr>\n",
       "    <tr>\n",
       "      <th>4</th>\n",
       "      <td>women</td>\n",
       "      <td>accessories</td>\n",
       "      <td>116.46</td>\n",
       "      <td>28.74</td>\n",
       "      <td>Zoomlounge</td>\n",
       "      <td>2024-12-17</td>\n",
       "      <td>2024-01-29</td>\n",
       "      <td>2009.40</td>\n",
       "      <td>Cesya Boustead</td>\n",
       "      <td>cboustead4@nps.gov</td>\n",
       "      <td>2024</td>\n",
       "      <td>12</td>\n",
       "      <td>17</td>\n",
       "      <td>2024</td>\n",
       "      <td>1</td>\n",
       "      <td>29</td>\n",
       "    </tr>\n",
       "  </tbody>\n",
       "</table>\n",
       "</div>"
      ],
      "text/plain": [
       "  clothing_type     category   price  discount    shop_outlet delivery_date  \\\n",
       "0           men  accessories  113.84      6.15       Photobug    2022-06-20   \n",
       "1           men  accessories   60.62     49.47        Jetwire    2024-02-06   \n",
       "2      children       shirts  119.19     41.14       Edgewire    2022-06-03   \n",
       "3           men        shoes   43.19     12.50  Twitterbridge    2022-11-19   \n",
       "4         women  accessories  116.46     28.74     Zoomlounge    2024-12-17   \n",
       "\n",
       "  order_date  revenue    customer_name               customer_email  \\\n",
       "0 2023-08-06  1102.01      Alfy Piborn     apiborn0@squarespace.com   \n",
       "1 2022-01-01  5521.65  Demetra Stutely          dstutely1@wired.com   \n",
       "2 2022-11-14  7252.86    Giselle Ruegg           gruegg2@weebly.com   \n",
       "3 2024-08-01  4866.12    Sven Loughlin  sloughlin3@surveymonkey.com   \n",
       "4 2024-01-29  2009.40   Cesya Boustead           cboustead4@nps.gov   \n",
       "\n",
       "   delivery_year  delivery_month  delivery_day  order_year  order_month  \\\n",
       "0           2022               6            20        2023            8   \n",
       "1           2024               2             6        2022            1   \n",
       "2           2022               6             3        2022           11   \n",
       "3           2022              11            19        2024            8   \n",
       "4           2024              12            17        2024            1   \n",
       "\n",
       "   order_day  \n",
       "0          6  \n",
       "1          1  \n",
       "2         14  \n",
       "3          1  \n",
       "4         29  "
      ]
     },
     "execution_count": 23,
     "metadata": {},
     "output_type": "execute_result"
    }
   ],
   "source": [
    "fashion.head()"
   ]
  },
  {
   "cell_type": "code",
   "execution_count": 22,
   "id": "ccbfa6f1",
   "metadata": {},
   "outputs": [
    {
     "name": "stdout",
     "output_type": "stream",
     "text": [
      "<class 'pandas.core.frame.DataFrame'>\n",
      "RangeIndex: 100 entries, 0 to 99\n",
      "Data columns (total 16 columns):\n",
      " #   Column          Non-Null Count  Dtype         \n",
      "---  ------          --------------  -----         \n",
      " 0   clothing_type   100 non-null    object        \n",
      " 1   category        100 non-null    object        \n",
      " 2   price           100 non-null    float64       \n",
      " 3   discount        100 non-null    float64       \n",
      " 4   shop_outlet     100 non-null    object        \n",
      " 5   delivery_date   100 non-null    datetime64[ns]\n",
      " 6   order_date      100 non-null    datetime64[ns]\n",
      " 7   revenue         100 non-null    float64       \n",
      " 8   customer_name   100 non-null    object        \n",
      " 9   customer_email  100 non-null    object        \n",
      " 10  delivery_year   100 non-null    int32         \n",
      " 11  delivery_month  100 non-null    int32         \n",
      " 12  delivery_day    100 non-null    int32         \n",
      " 13  order_year      100 non-null    int32         \n",
      " 14  order_month     100 non-null    int32         \n",
      " 15  order_day       100 non-null    int32         \n",
      "dtypes: datetime64[ns](2), float64(3), int32(6), object(5)\n",
      "memory usage: 10.3+ KB\n"
     ]
    }
   ],
   "source": [
    "#Now we're good with the column data-types\n",
    "fashion.info()"
   ]
  },
  {
   "cell_type": "code",
   "execution_count": 13,
   "id": "1d2fe2fb",
   "metadata": {},
   "outputs": [
    {
     "data": {
      "text/html": [
       "<div>\n",
       "<style scoped>\n",
       "    .dataframe tbody tr th:only-of-type {\n",
       "        vertical-align: middle;\n",
       "    }\n",
       "\n",
       "    .dataframe tbody tr th {\n",
       "        vertical-align: top;\n",
       "    }\n",
       "\n",
       "    .dataframe thead th {\n",
       "        text-align: right;\n",
       "    }\n",
       "</style>\n",
       "<table border=\"1\" class=\"dataframe\">\n",
       "  <thead>\n",
       "    <tr style=\"text-align: right;\">\n",
       "      <th></th>\n",
       "      <th>price</th>\n",
       "      <th>discount</th>\n",
       "      <th>revenue</th>\n",
       "    </tr>\n",
       "  </thead>\n",
       "  <tbody>\n",
       "    <tr>\n",
       "      <th>count</th>\n",
       "      <td>100.000000</td>\n",
       "      <td>100.000000</td>\n",
       "      <td>100.000000</td>\n",
       "    </tr>\n",
       "    <tr>\n",
       "      <th>mean</th>\n",
       "      <td>107.285300</td>\n",
       "      <td>23.883300</td>\n",
       "      <td>5003.654300</td>\n",
       "    </tr>\n",
       "    <tr>\n",
       "      <th>std</th>\n",
       "      <td>52.978033</td>\n",
       "      <td>14.547669</td>\n",
       "      <td>2930.758006</td>\n",
       "    </tr>\n",
       "    <tr>\n",
       "      <th>min</th>\n",
       "      <td>11.880000</td>\n",
       "      <td>0.490000</td>\n",
       "      <td>249.270000</td>\n",
       "    </tr>\n",
       "    <tr>\n",
       "      <th>25%</th>\n",
       "      <td>62.015000</td>\n",
       "      <td>11.675000</td>\n",
       "      <td>2540.700000</td>\n",
       "    </tr>\n",
       "    <tr>\n",
       "      <th>50%</th>\n",
       "      <td>108.930000</td>\n",
       "      <td>22.705000</td>\n",
       "      <td>4882.105000</td>\n",
       "    </tr>\n",
       "    <tr>\n",
       "      <th>75%</th>\n",
       "      <td>146.847500</td>\n",
       "      <td>37.010000</td>\n",
       "      <td>7303.972500</td>\n",
       "    </tr>\n",
       "    <tr>\n",
       "      <th>max</th>\n",
       "      <td>199.740000</td>\n",
       "      <td>49.880000</td>\n",
       "      <td>9993.830000</td>\n",
       "    </tr>\n",
       "  </tbody>\n",
       "</table>\n",
       "</div>"
      ],
      "text/plain": [
       "            price    discount      revenue\n",
       "count  100.000000  100.000000   100.000000\n",
       "mean   107.285300   23.883300  5003.654300\n",
       "std     52.978033   14.547669  2930.758006\n",
       "min     11.880000    0.490000   249.270000\n",
       "25%     62.015000   11.675000  2540.700000\n",
       "50%    108.930000   22.705000  4882.105000\n",
       "75%    146.847500   37.010000  7303.972500\n",
       "max    199.740000   49.880000  9993.830000"
      ]
     },
     "execution_count": 13,
     "metadata": {},
     "output_type": "execute_result"
    }
   ],
   "source": [
    "#Descriptive Statistics\n",
    "fashion.describe()"
   ]
  },
  {
   "cell_type": "code",
   "execution_count": null,
   "id": "794f87ef",
   "metadata": {},
   "outputs": [
    {
     "data": {
      "text/plain": [
       "clothing_type     0\n",
       "category          0\n",
       "price             0\n",
       "discount          0\n",
       "shop_outlet       0\n",
       "delivery_date     0\n",
       "order_date        0\n",
       "revenue           0\n",
       "customer_name     0\n",
       "customer_email    0\n",
       "dtype: int64"
      ]
     },
     "execution_count": 17,
     "metadata": {},
     "output_type": "execute_result"
    }
   ],
   "source": [
    "# Let's now check for missing values\n",
    "fashion.isnull().sum() #No nulls, hurray!!"
   ]
  },
  {
   "cell_type": "code",
   "execution_count": null,
   "id": "13a998b7",
   "metadata": {},
   "outputs": [],
   "source": [
    "# Let's now start seeing some visuals\n",
    "\n",
    "# Determine the monthly trend of total sales\n",
    "\n",
    "revenueovermonth=fashion.groupby('order_month')['revenue'].sum()"
   ]
  },
  {
   "cell_type": "code",
   "execution_count": 28,
   "id": "9aba98eb",
   "metadata": {},
   "outputs": [
    {
     "data": {
      "text/plain": [
       "<Axes: xlabel='order_month'>"
      ]
     },
     "execution_count": 28,
     "metadata": {},
     "output_type": "execute_result"
    },
    {
     "data": {
      "image/png": "[encoded data removed]",
      "text/plain": [
       "<Figure size 1600x600 with 1 Axes>"
      ]
     },
     "metadata": {},
     "output_type": "display_data"
    }
   ],
   "source": [
    "revenueovermonth.plot(kind='line', figsize=(16,6))"
   ]
  },
  {
   "cell_type": "code",
   "execution_count": null,
   "id": "e5a90b68",
   "metadata": {},
   "outputs": [],
   "source": [
    "# Analyze sales distribution by day of the week\n",
    "\n",
    "# Extract the day of the week\n",
    "\n",
    "fashion['order_weekday'] = fashion['order_date'].dt.day_name()\n",
    "\n",
    "\n",
    "# Group revenue by day of the week\n",
    "revenueoverweek=fashion.groupby('order_weekday')['revenue'].sum()\n"
   ]
  },
  {
   "cell_type": "code",
   "execution_count": 34,
   "id": "bc919b5f",
   "metadata": {},
   "outputs": [
    {
     "data": {
      "text/plain": [
       "<Axes: xlabel='order_weekday'>"
      ]
     },
     "execution_count": 34,
     "metadata": {},
     "output_type": "execute_result"
    },
    {
     "data": {
      "image/png": "[encoded data removed]",
      "text/plain": [
       "<Figure size 1600x600 with 1 Axes>"
      ]
     },
     "metadata": {},
     "output_type": "display_data"
    }
   ],
   "source": [
    "revenueoverweek.plot(kind='line', figsize=(16,6))"
   ]
  }
 ],
 "metadata": {
  "kernelspec": {
   "display_name": "Python 3",
   "language": "python",
   "name": "python3"
  },
  "language_info": {
   "codemirror_mode": {
    "name": "ipython",
    "version": 3
   },
   "file_extension": ".py",
   "mimetype": "text/x-python",
   "name": "python",
   "nbconvert_exporter": "python",
   "pygments_lexer": "ipython3",
   "version": "3.13.2"
  }
 },
 "nbformat": 4,
 "nbformat_minor": 5
}
